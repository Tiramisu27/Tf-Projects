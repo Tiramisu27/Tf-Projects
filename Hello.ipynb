{
 "cells": [
  {
   "cell_type": "markdown",
   "metadata": {},
   "source": [
    "# Machine learning from scratch: Logistic regression\n",
    "\n",
    "## Introduction\n",
    "\n",
    "In this notebook, we will build the algorithm for finding a logistic regression model for classification of data in two different classes. This method yields a linear decision boundary, so the data to analyze must be (approximately) linearly separable. We start by importing some scientific libraries."
   ]
  }
